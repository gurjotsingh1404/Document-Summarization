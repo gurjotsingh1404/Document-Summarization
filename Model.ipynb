{
 "cells": [
  {
   "cell_type": "code",
   "execution_count": 7,
   "id": "417e246e-d3f1-462d-b819-6fc34f133421",
   "metadata": {},
   "outputs": [
    {
     "name": "stdout",
     "output_type": "stream",
     "text": [
      "Requirement already satisfied: langchain-community in c:\\users\\gurjo\\anaconda3\\envs\\gurunlp\\lib\\site-packages (0.3.20)\n",
      "Requirement already satisfied: langchain-core<1.0.0,>=0.3.45 in c:\\users\\gurjo\\anaconda3\\envs\\gurunlp\\lib\\site-packages (from langchain-community) (0.3.46)\n",
      "Requirement already satisfied: langchain<1.0.0,>=0.3.21 in c:\\users\\gurjo\\anaconda3\\envs\\gurunlp\\lib\\site-packages (from langchain-community) (0.3.21)\n",
      "Requirement already satisfied: SQLAlchemy<3,>=1.4 in c:\\users\\gurjo\\anaconda3\\envs\\gurunlp\\lib\\site-packages (from langchain-community) (2.0.39)\n",
      "Requirement already satisfied: requests<3,>=2 in c:\\users\\gurjo\\anaconda3\\envs\\gurunlp\\lib\\site-packages (from langchain-community) (2.32.3)\n",
      "Requirement already satisfied: PyYAML>=5.3 in c:\\users\\gurjo\\anaconda3\\envs\\gurunlp\\lib\\site-packages (from langchain-community) (6.0)\n",
      "Requirement already satisfied: aiohttp<4.0.0,>=3.8.3 in c:\\users\\gurjo\\anaconda3\\envs\\gurunlp\\lib\\site-packages (from langchain-community) (3.11.14)\n",
      "Requirement already satisfied: tenacity!=8.4.0,<10,>=8.1.0 in c:\\users\\gurjo\\anaconda3\\envs\\gurunlp\\lib\\site-packages (from langchain-community) (9.0.0)\n",
      "Requirement already satisfied: dataclasses-json<0.7,>=0.5.7 in c:\\users\\gurjo\\anaconda3\\envs\\gurunlp\\lib\\site-packages (from langchain-community) (0.6.7)\n",
      "Requirement already satisfied: pydantic-settings<3.0.0,>=2.4.0 in c:\\users\\gurjo\\anaconda3\\envs\\gurunlp\\lib\\site-packages (from langchain-community) (2.8.1)\n",
      "Requirement already satisfied: langsmith<0.4,>=0.1.125 in c:\\users\\gurjo\\anaconda3\\envs\\gurunlp\\lib\\site-packages (from langchain-community) (0.3.18)\n",
      "Requirement already satisfied: httpx-sse<1.0.0,>=0.4.0 in c:\\users\\gurjo\\anaconda3\\envs\\gurunlp\\lib\\site-packages (from langchain-community) (0.4.0)\n",
      "Requirement already satisfied: numpy<3,>=1.26.2 in c:\\users\\gurjo\\anaconda3\\envs\\gurunlp\\lib\\site-packages (from langchain-community) (2.2.4)\n",
      "Requirement already satisfied: aiohappyeyeballs>=2.3.0 in c:\\users\\gurjo\\anaconda3\\envs\\gurunlp\\lib\\site-packages (from aiohttp<4.0.0,>=3.8.3->langchain-community) (2.6.1)\n",
      "Requirement already satisfied: aiosignal>=1.1.2 in c:\\users\\gurjo\\anaconda3\\envs\\gurunlp\\lib\\site-packages (from aiohttp<4.0.0,>=3.8.3->langchain-community) (1.3.2)\n",
      "Requirement already satisfied: async-timeout<6.0,>=4.0 in c:\\users\\gurjo\\anaconda3\\envs\\gurunlp\\lib\\site-packages (from aiohttp<4.0.0,>=3.8.3->langchain-community) (4.0.3)\n",
      "Requirement already satisfied: attrs>=17.3.0 in c:\\users\\gurjo\\anaconda3\\envs\\gurunlp\\lib\\site-packages (from aiohttp<4.0.0,>=3.8.3->langchain-community) (25.3.0)\n",
      "Requirement already satisfied: frozenlist>=1.1.1 in c:\\users\\gurjo\\anaconda3\\envs\\gurunlp\\lib\\site-packages (from aiohttp<4.0.0,>=3.8.3->langchain-community) (1.5.0)\n",
      "Requirement already satisfied: multidict<7.0,>=4.5 in c:\\users\\gurjo\\anaconda3\\envs\\gurunlp\\lib\\site-packages (from aiohttp<4.0.0,>=3.8.3->langchain-community) (6.2.0)\n",
      "Requirement already satisfied: propcache>=0.2.0 in c:\\users\\gurjo\\anaconda3\\envs\\gurunlp\\lib\\site-packages (from aiohttp<4.0.0,>=3.8.3->langchain-community) (0.3.0)\n",
      "Requirement already satisfied: yarl<2.0,>=1.17.0 in c:\\users\\gurjo\\anaconda3\\envs\\gurunlp\\lib\\site-packages (from aiohttp<4.0.0,>=3.8.3->langchain-community) (1.18.3)\n",
      "Requirement already satisfied: marshmallow<4.0.0,>=3.18.0 in c:\\users\\gurjo\\anaconda3\\envs\\gurunlp\\lib\\site-packages (from dataclasses-json<0.7,>=0.5.7->langchain-community) (3.26.1)\n",
      "Requirement already satisfied: typing-inspect<1,>=0.4.0 in c:\\users\\gurjo\\anaconda3\\envs\\gurunlp\\lib\\site-packages (from dataclasses-json<0.7,>=0.5.7->langchain-community) (0.9.0)\n",
      "Requirement already satisfied: langchain-text-splitters<1.0.0,>=0.3.7 in c:\\users\\gurjo\\anaconda3\\envs\\gurunlp\\lib\\site-packages (from langchain<1.0.0,>=0.3.21->langchain-community) (0.3.7)\n",
      "Requirement already satisfied: pydantic<3.0.0,>=2.7.4 in c:\\users\\gurjo\\anaconda3\\envs\\gurunlp\\lib\\site-packages (from langchain<1.0.0,>=0.3.21->langchain-community) (2.10.6)\n",
      "Requirement already satisfied: jsonpatch<2.0,>=1.33 in c:\\users\\gurjo\\anaconda3\\envs\\gurunlp\\lib\\site-packages (from langchain-core<1.0.0,>=0.3.45->langchain-community) (1.33)\n",
      "Requirement already satisfied: packaging<25,>=23.2 in c:\\users\\gurjo\\anaconda3\\envs\\gurunlp\\lib\\site-packages (from langchain-core<1.0.0,>=0.3.45->langchain-community) (24.2)\n",
      "Requirement already satisfied: typing-extensions>=4.7 in c:\\users\\gurjo\\anaconda3\\envs\\gurunlp\\lib\\site-packages (from langchain-core<1.0.0,>=0.3.45->langchain-community) (4.12.2)\n",
      "Requirement already satisfied: httpx<1,>=0.23.0 in c:\\users\\gurjo\\anaconda3\\envs\\gurunlp\\lib\\site-packages (from langsmith<0.4,>=0.1.125->langchain-community) (0.28.1)\n",
      "Requirement already satisfied: orjson<4.0.0,>=3.9.14 in c:\\users\\gurjo\\anaconda3\\envs\\gurunlp\\lib\\site-packages (from langsmith<0.4,>=0.1.125->langchain-community) (3.10.15)\n",
      "Requirement already satisfied: requests-toolbelt<2.0.0,>=1.0.0 in c:\\users\\gurjo\\anaconda3\\envs\\gurunlp\\lib\\site-packages (from langsmith<0.4,>=0.1.125->langchain-community) (1.0.0)\n",
      "Requirement already satisfied: zstandard<0.24.0,>=0.23.0 in c:\\users\\gurjo\\anaconda3\\envs\\gurunlp\\lib\\site-packages (from langsmith<0.4,>=0.1.125->langchain-community) (0.23.0)\n",
      "Requirement already satisfied: python-dotenv>=0.21.0 in c:\\users\\gurjo\\anaconda3\\envs\\gurunlp\\lib\\site-packages (from pydantic-settings<3.0.0,>=2.4.0->langchain-community) (1.0.1)\n",
      "Requirement already satisfied: charset_normalizer<4,>=2 in c:\\users\\gurjo\\anaconda3\\envs\\gurunlp\\lib\\site-packages (from requests<3,>=2->langchain-community) (3.4.1)\n",
      "Requirement already satisfied: idna<4,>=2.5 in c:\\users\\gurjo\\anaconda3\\envs\\gurunlp\\lib\\site-packages (from requests<3,>=2->langchain-community) (3.10)\n",
      "Requirement already satisfied: urllib3<3,>=1.21.1 in c:\\users\\gurjo\\anaconda3\\envs\\gurunlp\\lib\\site-packages (from requests<3,>=2->langchain-community) (2.2.1)\n",
      "Requirement already satisfied: certifi>=2017.4.17 in c:\\users\\gurjo\\anaconda3\\envs\\gurunlp\\lib\\site-packages (from requests<3,>=2->langchain-community) (2025.1.31)\n",
      "Requirement already satisfied: greenlet!=0.4.17 in c:\\users\\gurjo\\anaconda3\\envs\\gurunlp\\lib\\site-packages (from SQLAlchemy<3,>=1.4->langchain-community) (3.1.1)\n",
      "Requirement already satisfied: anyio in c:\\users\\gurjo\\anaconda3\\envs\\gurunlp\\lib\\site-packages (from httpx<1,>=0.23.0->langsmith<0.4,>=0.1.125->langchain-community) (4.9.0)\n",
      "Requirement already satisfied: httpcore==1.* in c:\\users\\gurjo\\anaconda3\\envs\\gurunlp\\lib\\site-packages (from httpx<1,>=0.23.0->langsmith<0.4,>=0.1.125->langchain-community) (1.0.7)\n",
      "Requirement already satisfied: h11<0.15,>=0.13 in c:\\users\\gurjo\\anaconda3\\envs\\gurunlp\\lib\\site-packages (from httpcore==1.*->httpx<1,>=0.23.0->langsmith<0.4,>=0.1.125->langchain-community) (0.14.0)\n",
      "Requirement already satisfied: jsonpointer>=1.9 in c:\\users\\gurjo\\anaconda3\\envs\\gurunlp\\lib\\site-packages (from jsonpatch<2.0,>=1.33->langchain-core<1.0.0,>=0.3.45->langchain-community) (3.0.0)\n",
      "Requirement already satisfied: annotated-types>=0.6.0 in c:\\users\\gurjo\\anaconda3\\envs\\gurunlp\\lib\\site-packages (from pydantic<3.0.0,>=2.7.4->langchain<1.0.0,>=0.3.21->langchain-community) (0.7.0)\n",
      "Requirement already satisfied: pydantic-core==2.27.2 in c:\\users\\gurjo\\anaconda3\\envs\\gurunlp\\lib\\site-packages (from pydantic<3.0.0,>=2.7.4->langchain<1.0.0,>=0.3.21->langchain-community) (2.27.2)\n",
      "Requirement already satisfied: mypy-extensions>=0.3.0 in c:\\users\\gurjo\\anaconda3\\envs\\gurunlp\\lib\\site-packages (from typing-inspect<1,>=0.4.0->dataclasses-json<0.7,>=0.5.7->langchain-community) (1.0.0)\n",
      "Requirement already satisfied: exceptiongroup>=1.0.2 in c:\\users\\gurjo\\anaconda3\\envs\\gurunlp\\lib\\site-packages (from anyio->httpx<1,>=0.23.0->langsmith<0.4,>=0.1.125->langchain-community) (1.2.2)\n",
      "Requirement already satisfied: sniffio>=1.1 in c:\\users\\gurjo\\anaconda3\\envs\\gurunlp\\lib\\site-packages (from anyio->httpx<1,>=0.23.0->langsmith<0.4,>=0.1.125->langchain-community) (1.3.1)\n",
      "Note: you may need to restart the kernel to use updated packages.\n"
     ]
    }
   ],
   "source": [
    "pip install -U langchain-community\n"
   ]
  },
  {
   "cell_type": "code",
   "execution_count": 4,
   "id": "47fe033c-3dd3-458b-8b38-5b374869040b",
   "metadata": {},
   "outputs": [
    {
     "name": "stdout",
     "output_type": "stream",
     "text": [
      "Requirement already satisfied: nltk in c:\\users\\gurjo\\anaconda3\\envs\\gurunlp\\lib\\site-packages (3.9.1)\n",
      "Requirement already satisfied: click in c:\\users\\gurjo\\anaconda3\\envs\\gurunlp\\lib\\site-packages (from nltk) (8.1.8)\n",
      "Requirement already satisfied: joblib in c:\\users\\gurjo\\anaconda3\\envs\\gurunlp\\lib\\site-packages (from nltk) (1.4.2)\n",
      "Requirement already satisfied: regex>=2021.8.3 in c:\\users\\gurjo\\anaconda3\\envs\\gurunlp\\lib\\site-packages (from nltk) (2024.11.6)\n",
      "Requirement already satisfied: tqdm in c:\\users\\gurjo\\anaconda3\\envs\\gurunlp\\lib\\site-packages (from nltk) (4.67.1)\n",
      "Requirement already satisfied: colorama in c:\\users\\gurjo\\anaconda3\\envs\\gurunlp\\lib\\site-packages (from click->nltk) (0.4.6)\n",
      "Note: you may need to restart the kernel to use updated packages.\n"
     ]
    }
   ],
   "source": [
    "pip install nltk"
   ]
  },
  {
   "cell_type": "code",
   "execution_count": null,
   "id": "ac10d590-3a72-4866-a900-2d71b25e2da8",
   "metadata": {},
   "outputs": [],
   "source": [
    "pip install langchain\n"
   ]
  },
  {
   "cell_type": "code",
   "execution_count": 2,
   "id": "b764850c-ff9e-440e-8ec3-7a2b6095446d",
   "metadata": {},
   "outputs": [
    {
     "name": "stderr",
     "output_type": "stream",
     "text": [
      "USER_AGENT environment variable not set, consider setting it to identify your requests.\n"
     ]
    },
    {
     "name": "stdout",
     "output_type": "stream",
     "text": [
      "Publication Item Skip to main content Global Regions WHO Regional websites Africa Americas SouthEast Asia Europe Eastern Mediterranean Western Pacific When autocomplete results are available use up and down arrows to review and enter to select Select language Select language English Franais Espaol Portugus Donate Donate Home Health Topics All topicsABCDEFGHIJKLMNOPQRSTUVWXYZ Resources Fact sheets Facts in pictures Multimedia Podcasts Publications Questions and answers Tools and toolkits Popular Dengue Endometriosis Excessive heat Herpes Mental disorders Mpox Countries All countriesABCDEFGHIJKLMNOPQRSTUVWXYZ Regions Africa Americas Europe Eastern Mediterranean SouthEast Asia Western Pacific WHO in countries Data by country Country presence Country strengthening Country cooperation strategies Newsroom All news News releases Statements Campaigns Events Feature stories Press conferences Speeches Commentaries Photo library Headlines Emergencies Focus on Cholera Coronavirus disease COVID19 Greater Horn of Africa Israel and occupied Palestinian territory Mpox Sudan Ukraine Latest Disease Outbreak News Situation reports Weekly Epidemiological Record WHO in emergencies Surveillance Operations Research Funding Partners Health emergency appeals International Health Regulations Independent Oversight and Advisory Committee Data Data at WHO Data hub Global Health Estimates Mortality Health inequality Dashboards Triple Billion Progress Health Inequality Monitor Delivery for impact COVID19 dashboard Data collection Classifications SCORE Surveys Civil registration and vital statistics Routine health information systems Harmonized health facility assessment GIS centre for health Reports World Health Statistics UHC global monitoring report About WHO About WHO Partnerships Committees and advisory groups Collaborating centres Technical teams Organizational structure Who we are Our work Activities Initiatives General Programme of Work WHO Academy Funding Investment in WHO WHO Foundation Accountability External audit Financial statements Internal audit and investigations Programme Budget Results reports Governance Governing bodies World Health Assembly Executive Board Member States Portal Home Publications i item WHO guideline on contact tracing Select language franais espaol portugus WHO guideline on contact tracing 13 January 2025 Guideline Download 884 kB Overview This practical guideline establishes definitions for contact contact person contact tracing and other associated concepts It allows for improvement of contact tracing strategies and provides recommendations attempting to answer some though not all questions that arose during the 2019 coronavirus pandemic and other outbreaks The use of this guideline begins once people have been diagnosed and the potential for transmission exists It is not however intended to assist with case investigation The guideline empowers health workers governments and public health officials with the tools to implement effective contact tracing strategies Related linksWHO releases first diseaseagnostic guideline on contact tracingVideo Infectious diseases WHO guideline on contact tracing WHO Team Field Epidemiology Strengthening FEP Guidelines Review Committee WHO Health Emergencies Programme WHE Editors World Health Organization Number of pages 92 Reference numbers ISBN 9789240102965 Copyright Regions Africa Americas Eastern Mediterranean Europe SouthEast Asia Western Pacific Policies Cybersecurity Ethics Information disclosure Permissions and licensing Preventing sexual exploitation Terms of use About us Careers Frequently asked questions Library Procurement Publications Contact us Newsletters Report misconduct Privacy policy 2025 WHO\n",
      "Publication Item Skip to main content Global Regions WHO Regional websites Africa Americas SouthEast Asia Europe Eastern Mediterranean Western Pacific When autocomplete results are available use up and down arrows to review and enter to select Select language Select language English Franais Espaol Portugus Donate Donate Home Health Topics All topicsABCDEFGHIJKLMNOPQRSTUVWXYZ Resources Fact sheets Facts in pictures Multimedia Podcasts Publications Questions and answers Tools and toolkits Popular Dengue Endometriosis Excessive heat Herpes Mental disorders Mpox Countries All countriesABCDEFGHIJKLMNOPQRSTUVWXYZ Regions Africa Americas Europe Eastern Mediterranean SouthEast Asia Western Pacific WHO in countries Data by country Country presence Country strengthening Country cooperation strategies Newsroom All news News releases Statements Campaigns Events Feature stories Press conferences Speeches Commentaries Photo library Headlines Emergencies Focus on Cholera Coronavirus disease COVID19 Greater Horn of Africa Israel and occupied Palestinian territory Mpox Sudan Ukraine Latest Disease Outbreak News Situation reports Weekly Epidemiological Record WHO in emergencies Surveillance Operations Research Funding Partners Health emergency appeals International Health Regulations Independent Oversight and Advisory Committee Data Data at WHO Data hub Global Health Estimates Mortality Health inequality Dashboards Triple Billion Progress Health Inequality Monitor Delivery for impact COVID19 dashboard Data collection Classifications SCORE Surveys Civil registration and vital statistics Routine health information systems Harmonized health facility assessment GIS centre for health Reports World Health Statistics UHC global monitoring report About WHO About WHO Partnerships Committees and advisory groups Collaborating centres Technical teams Organizational structure Who we are Our work Activities Initiatives General Programme of Work WHO Academy Funding Investment in WHO WHO Foundation Accountability External audit Financial statements Internal audit and investigations Programme Budget Results reports Governance Governing bodies World Health Assembly Executive Board Member States Portal Home Publications i item WHO recommendations for management of serious bacterial infections in infants aged 059 days Select language franais espaol portugus WHO recommendations for management of serious bacterial infections in infants aged 059 days 8 December 2024 Guideline Download 57 MB Overview The World Health Organization WHO has developed guidelines for the management of infants aged 059 days with serious bacterial infections sepsis meningitis and pneumonia in hospital and also outside hospital if referral is not possible The guidelines now include recommendations on diagnosis as well as first line empiric antibiotic treatment of the most critically ill infants aged 059 days with suspected sepsis meningitis and pneumonia The recommendations are intended for a wide audience involved in the management of serious bacterial infections in infants aged 059 days Web annex Web Annex Evidence base GRADE tables Available at Download link WHO Team Child Health and Development CHD Guidelines Review Committee Maternal Newborn Child Adolescent Health Ageing MCA Newborn Health NBH Editors World Health Organization Number of pages 90 Reference numbers ISBN 9789240102903 Copyright Regions Africa Americas Eastern Mediterranean Europe SouthEast Asia Western Pacific Policies Cybersecurity Ethics Information disclosure Permissions and licensing Preventing sexual exploitation Terms of use About us Careers Frequently asked questions Library Procurement Publications Contact us Newsletters Report misconduct Privacy policy 2025 WHO\n"
     ]
    }
   ],
   "source": [
    "from langchain.document_loaders import WebBaseLoader\n",
    "import re\n",
    "from bs4 import BeautifulSoup\n",
    "\n",
    "def clean_text(text):\n",
    "    # Remove HTML tags\n",
    "    text = BeautifulSoup(text, \"html.parser\").get_text()\n",
    "    # Remove special characters\n",
    "    text = re.sub(r'[^a-zA-Z0-9\\s]', '', text)\n",
    "    # Remove extra whitespace\n",
    "    text = re.sub(r'\\s+', ' ', text).strip()\n",
    "    return text\n",
    "\n",
    "URL = [\"https://www.who.int/publications/i/item/9789240102965\",\n",
    "       \"https://www.who.int/publications/i/item/9789240102903\"]\n",
    "\n",
    "data = WebBaseLoader(URL).load()\n",
    "\n",
    "cleaned_contents = []\n",
    "for document in data:\n",
    "    cleaned_content = clean_text(document.page_content)\n",
    "    cleaned_contents.append(cleaned_content)\n",
    "\n",
    "# Now, cleaned_contents is a list of cleaned strings.\n",
    "for cleaned_content in cleaned_contents:\n",
    "    print(cleaned_content) #display the cleaned text."
   ]
  },
  {
   "cell_type": "code",
   "execution_count": 39,
   "id": "69a95b9d-f7a7-4cf3-ae88-fa0c2538619d",
   "metadata": {},
   "outputs": [
    {
     "name": "stderr",
     "output_type": "stream",
     "text": [
      "[nltk_data] Downloading package punkt_tab to\n",
      "[nltk_data]     C:\\Users\\gurjo\\AppData\\Roaming\\nltk_data...\n",
      "[nltk_data]   Package punkt_tab is already up-to-date!\n",
      "[nltk_data] Downloading package stopwords to\n",
      "[nltk_data]     C:\\Users\\gurjo\\AppData\\Roaming\\nltk_data...\n",
      "[nltk_data]   Package stopwords is already up-to-date!\n"
     ]
    },
    {
     "data": {
      "text/plain": [
       "True"
      ]
     },
     "execution_count": 39,
     "metadata": {},
     "output_type": "execute_result"
    }
   ],
   "source": [
    "import nltk\n",
    "nltk.download('punkt_tab')\n",
    "nltk.download('stopwords')"
   ]
  },
  {
   "cell_type": "code",
   "execution_count": 42,
   "id": "02e9639c-e339-4a57-b857-5ebc4e751a21",
   "metadata": {},
   "outputs": [
    {
     "name": "stdout",
     "output_type": "stream",
     "text": [
      "['Publication', 'Item', 'Skip', 'main', 'content', 'World', 'Health', 'Organization', 'Global', 'Regions', 'World', 'Health', 'Organization', 'Regional', 'websites', 'Africa', 'Americas', 'SouthEast', 'Asia', 'Europe', 'Eastern', 'Mediterranean', 'Western', 'Pacific', 'autocomplete', 'results', 'available', 'use', 'arrows', 'review', 'enter', 'select', 'Select', 'language', 'Select', 'language', 'English', 'Franais', 'Espaol', 'Portugus', 'Donate', 'Donate', 'Home', 'Health', 'Topics', 'topicsABCDEFGHIJKLMNOPQRSTUVWXYZ', 'Resources', 'Fact', 'sheets', 'Facts', 'pictures', 'Multimedia', 'Podcasts', 'Publications', 'Questions', 'answers', 'Tools', 'toolkits', 'Popular', 'Dengue', 'Endometriosis', 'Excessive', 'heat', 'Herpes', 'Mental', 'disorders', 'Mpox', 'Countries', 'countriesABCDEFGHIJKLMNOPQRSTUVWXYZ', 'Regions', 'Africa', 'Americas', 'Europe', 'Eastern', 'Mediterranean', 'SouthEast', 'Asia', 'Western', 'Pacific', 'countries', 'Data', 'country', 'Country', 'presence', 'Country', 'strengthening', 'Country', 'cooperation', 'strategies', 'Newsroom', 'news', 'News', 'releases', 'Statements', 'Campaigns', 'Events', 'Feature', 'stories', 'Press', 'conferences', 'Speeches', 'Commentaries', 'Photo', 'library', 'Headlines', 'Emergencies', 'Focus', 'Cholera', 'Coronavirus', 'disease', 'COVID19', 'Greater', 'Horn', 'Africa', 'Israel', 'occupied', 'Palestinian', 'territory', 'Mpox', 'Sudan', 'Ukraine', 'Latest', 'Disease', 'Outbreak', 'News', 'Situation', 'reports', 'Weekly', 'Epidemiological', 'Record', 'emergencies', 'Surveillance', 'Operations', 'Research', 'Funding', 'Partners', 'Health', 'emergency', 'appeals', 'International', 'Health', 'Regulations', 'Independent', 'Oversight', 'Advisory', 'Committee', 'Data', 'Data', 'Data', 'hub', 'Global', 'Health', 'Estimates', 'Mortality', 'Health', 'inequality', 'Dashboards', 'Triple', 'Billion', 'Progress', 'Health', 'Inequality', 'Monitor', 'Delivery', 'impact', 'COVID19', 'dashboard', 'Data', 'collection', 'Classifications', 'SCORE', 'Surveys', 'Civil', 'registration', 'vital', 'statistics', 'Routine', 'health', 'information', 'systems', 'Harmonized', 'health', 'facility', 'assessment', 'GIS', 'centre', 'health', 'Reports', 'World', 'Health', 'Statistics', 'UHC', 'global', 'monitoring', 'report', 'Partnerships', 'Committees', 'advisory', 'groups', 'Collaborating', 'centres', 'Technical', 'teams', 'Organizational', 'structure', 'work', 'Activities', 'Initiatives', 'General', 'Programme', 'Work', 'Academy', 'Funding', 'Investment', 'Foundation', 'Accountability', 'External', 'audit', 'Financial', 'statements', 'Internal', 'audit', 'investigations', 'Programme', 'Budget', 'Results', 'reports', 'Governance', 'Governing', 'bodies', 'World', 'Health', 'Assembly', 'Executive', 'Board', 'Member', 'States', 'Portal', 'Home', 'Publications', 'item', 'guideline', 'contact', 'tracing', 'Select', 'language', 'franais', 'espaol', 'portugus', 'guideline', 'contact', 'tracing', '13', 'January', '2025', 'Guideline', 'Download', '884', 'kB', 'Overview', 'practical', 'guideline', 'establishes', 'definitions', 'contact', 'contact', 'person', 'contact', 'tracing', 'associated', 'concepts', 'allows', 'improvement', 'contact', 'tracing', 'strategies', 'provides', 'recommendations', 'attempting', 'answer', 'though', 'questions', 'arose', '2019', 'coronavirus', 'pandemic', 'outbreaks', 'use', 'guideline', 'begins', 'people', 'diagnosed', 'potential', 'transmission', 'exists', 'however', 'intended', 'assist', 'case', 'investigation', 'guideline', 'empowers', 'health', 'workers', 'governments', 'public', 'health', 'officials', 'tools', 'implement', 'effective', 'contact', 'tracing', 'strategies', 'Related', 'linksWHO', 'releases', 'first', 'diseaseagnostic', 'guideline', 'contact', 'tracingVideo', 'Infectious', 'diseases', 'guideline', 'contact', 'tracing', 'Team', 'Field', 'Epidemiology', 'Strengthening', 'FEP', 'Guidelines', 'Review', 'Committee', 'Health', 'Emergencies', 'Programme', 'WHE', 'Editors', 'World', 'Health', 'Organization', 'Number', 'pages', '92', 'Reference', 'numbers', 'ISBN', '9789240102965', 'Copyright', 'Regions', 'Africa', 'Americas', 'Eastern', 'Mediterranean', 'Europe', 'SouthEast', 'Asia', 'Western', 'Pacific', 'Policies', 'Cybersecurity', 'Ethics', 'Information', 'disclosure', 'Permissions', 'licensing', 'Preventing', 'sexual', 'exploitation', 'Terms', 'use', 'us', 'Careers', 'Frequently', 'asked', 'questions', 'Library', 'Procurement', 'Publications', 'Contact', 'us', 'Newsletters', 'Report', 'misconduct', 'Privacy', 'policy', '2025']\n",
      "['Publication', 'Item', 'Skip', 'main', 'content', 'World', 'Health', 'Organization', 'Global', 'Regions', 'World', 'Health', 'Organization', 'Regional', 'websites', 'Africa', 'Americas', 'SouthEast', 'Asia', 'Europe', 'Eastern', 'Mediterranean', 'Western', 'Pacific', 'autocomplete', 'results', 'available', 'use', 'arrows', 'review', 'enter', 'select', 'Select', 'language', 'Select', 'language', 'English', 'Franais', 'Espaol', 'Portugus', 'Donate', 'Donate', 'Home', 'Health', 'Topics', 'topicsABCDEFGHIJKLMNOPQRSTUVWXYZ', 'Resources', 'Fact', 'sheets', 'Facts', 'pictures', 'Multimedia', 'Podcasts', 'Publications', 'Questions', 'answers', 'Tools', 'toolkits', 'Popular', 'Dengue', 'Endometriosis', 'Excessive', 'heat', 'Herpes', 'Mental', 'disorders', 'Mpox', 'Countries', 'countriesABCDEFGHIJKLMNOPQRSTUVWXYZ', 'Regions', 'Africa', 'Americas', 'Europe', 'Eastern', 'Mediterranean', 'SouthEast', 'Asia', 'Western', 'Pacific', 'countries', 'Data', 'country', 'Country', 'presence', 'Country', 'strengthening', 'Country', 'cooperation', 'strategies', 'Newsroom', 'news', 'News', 'releases', 'Statements', 'Campaigns', 'Events', 'Feature', 'stories', 'Press', 'conferences', 'Speeches', 'Commentaries', 'Photo', 'library', 'Headlines', 'Emergencies', 'Focus', 'Cholera', 'Coronavirus', 'disease', 'COVID19', 'Greater', 'Horn', 'Africa', 'Israel', 'occupied', 'Palestinian', 'territory', 'Mpox', 'Sudan', 'Ukraine', 'Latest', 'Disease', 'Outbreak', 'News', 'Situation', 'reports', 'Weekly', 'Epidemiological', 'Record', 'emergencies', 'Surveillance', 'Operations', 'Research', 'Funding', 'Partners', 'Health', 'emergency', 'appeals', 'International', 'Health', 'Regulations', 'Independent', 'Oversight', 'Advisory', 'Committee', 'Data', 'Data', 'Data', 'hub', 'Global', 'Health', 'Estimates', 'Mortality', 'Health', 'inequality', 'Dashboards', 'Triple', 'Billion', 'Progress', 'Health', 'Inequality', 'Monitor', 'Delivery', 'impact', 'COVID19', 'dashboard', 'Data', 'collection', 'Classifications', 'SCORE', 'Surveys', 'Civil', 'registration', 'vital', 'statistics', 'Routine', 'health', 'information', 'systems', 'Harmonized', 'health', 'facility', 'assessment', 'GIS', 'centre', 'health', 'Reports', 'World', 'Health', 'Statistics', 'UHC', 'global', 'monitoring', 'report', 'Partnerships', 'Committees', 'advisory', 'groups', 'Collaborating', 'centres', 'Technical', 'teams', 'Organizational', 'structure', 'work', 'Activities', 'Initiatives', 'General', 'Programme', 'Work', 'Academy', 'Funding', 'Investment', 'Foundation', 'Accountability', 'External', 'audit', 'Financial', 'statements', 'Internal', 'audit', 'investigations', 'Programme', 'Budget', 'Results', 'reports', 'Governance', 'Governing', 'bodies', 'World', 'Health', 'Assembly', 'Executive', 'Board', 'Member', 'States', 'Portal', 'Home', 'Publications', 'item', 'recommendations', 'management', 'serious', 'bacterial', 'infections', 'infants', 'aged', '059', 'days', 'Select', 'language', 'franais', 'espaol', 'portugus', 'recommendations', 'management', 'serious', 'bacterial', 'infections', 'infants', 'aged', '059', 'days', '8', 'December', '2024', 'Guideline', 'Download', '57', 'MB', 'Overview', 'World', 'Health', 'Organization', 'developed', 'guidelines', 'management', 'infants', 'aged', '059', 'days', 'serious', 'bacterial', 'infections', 'sepsis', 'meningitis', 'pneumonia', 'hospital', 'also', 'outside', 'hospital', 'referral', 'possible', 'guidelines', 'include', 'recommendations', 'diagnosis', 'well', 'first', 'line', 'empiric', 'antibiotic', 'treatment', 'critically', 'ill', 'infants', 'aged', '059', 'days', 'suspected', 'sepsis', 'meningitis', 'pneumonia', 'recommendations', 'intended', 'wide', 'audience', 'involved', 'management', 'serious', 'bacterial', 'infections', 'infants', 'aged', '059', 'days', 'Web', 'annex', 'Web', 'Annex', 'Evidence', 'base', 'GRADE', 'tables', 'Available', 'Download', 'link', 'Team', 'Child', 'Health', 'Development', 'CHD', 'Guidelines', 'Review', 'Committee', 'Maternal', 'Newborn', 'Child', 'Adolescent', 'Health', 'Ageing', 'MCA', 'Newborn', 'Health', 'NBH', 'Editors', 'World', 'Health', 'Organization', 'Number', 'pages', '90', 'Reference', 'numbers', 'ISBN', '9789240102903', 'Copyright', 'Regions', 'Africa', 'Americas', 'Eastern', 'Mediterranean', 'Europe', 'SouthEast', 'Asia', 'Western', 'Pacific', 'Policies', 'Cybersecurity', 'Ethics', 'Information', 'disclosure', 'Permissions', 'licensing', 'Preventing', 'sexual', 'exploitation', 'Terms', 'use', 'us', 'Careers', 'Frequently', 'asked', 'questions', 'Library', 'Procurement', 'Publications', 'Contact', 'us', 'Newsletters', 'Report', 'misconduct', 'Privacy', 'policy', '2025']\n"
     ]
    }
   ],
   "source": [
    "stop_words = set(stopwords.words('english'))\n",
    "\n",
    "for cleaned_content in cleaned_contents:\n",
    "    if cleaned_content: # Check if the string is not empty\n",
    "        sentences = sent_tokenize(cleaned_content)\n",
    "        for sentence in sentences:\n",
    "            sentence_tokens = word_tokenize(sentence)\n",
    "            new_tokens = []\n",
    "            for token in sentence_tokens:\n",
    "                if token.lower() not in stop_words: #convert to lower case, for better stop word removal\n",
    "                    new_tokens.append(token)\n",
    "            print(new_tokens) # or process new_tokens as needed\n",
    "    else:\n",
    "        print(\"Empty Content\") #let the user know that this document contained nothing."
   ]
  },
  {
   "cell_type": "code",
   "execution_count": 73,
   "id": "063309e0-d19d-44f5-9ef6-a1f29b35782e",
   "metadata": {
    "scrolled": true
   },
   "outputs": [
    {
     "name": "stderr",
     "output_type": "stream",
     "text": [
      "[nltk_data] Downloading package punkt to\n",
      "[nltk_data]     C:\\Users\\gurjo\\AppData\\Roaming\\nltk_data...\n",
      "[nltk_data]   Package punkt is already up-to-date!\n",
      "[nltk_data] Downloading package stopwords to\n",
      "[nltk_data]     C:\\Users\\gurjo\\AppData\\Roaming\\nltk_data...\n",
      "[nltk_data]   Package stopwords is already up-to-date!\n"
     ]
    },
    {
     "name": "stdout",
     "output_type": "stream",
     "text": [
      "Summary:\n",
      "Publication Item Skip to main content World Health Organization Global Regions World Health Organization WHO Regional websites Africa Americas SouthEast Asia Europe Eastern Mediterranean Western Pacific When autocomplete results are available use up and down arrows to review and enter to select Select language Select language English Franais Espaol Portugus Donate Donate Home Health Topics All topicsABCDEFGHIJKLMNOPQRSTUVWXYZ Resources Fact sheets Facts in pictures Multimedia Podcasts Publications Questions and answers Tools and toolkits Popular Dengue Endometriosis Excessive heat Herpes Mental disorders Mpox Countries All countriesABCDEFGHIJKLMNOPQRSTUVWXYZ Regions Africa Americas Europe Eastern Mediterranean SouthEast Asia Western Pacific WHO in countries Data by country Country presence Country strengthening Country cooperation strategies Newsroom All news News releases Statements Campaigns Events Feature stories Press conferences Speeches Commentaries Photo library Headlines Emergencies Focus on Cholera Coronavirus disease COVID19 Greater Horn of Africa Israel and occupied Palestinian territory Mpox Sudan Ukraine Latest Disease Outbreak News Situation reports Weekly Epidemiological Record WHO in emergencies Surveillance Operations Research Funding Partners Health emergency appeals International Health Regulations Independent Oversight and Advisory Committee Data Data at WHO Data hub Global Health Estimates Mortality Health inequality Dashboards Triple Billion Progress Health Inequality Monitor Delivery for impact COVID19 dashboard Data collection Classifications SCORE Surveys Civil registration and vital statistics Routine health information systems Harmonized health facility assessment GIS centre for health Reports World Health Statistics UHC global monitoring report About WHO About WHO Partnerships Committees and advisory groups Collaborating centres Technical teams Organizational structure Who we are Our work Activities Initiatives General Programme of Work WHO Academy Funding Investment in WHO WHO Foundation Accountability External audit Financial statements Internal audit and investigations Programme Budget Results reports Governance Governing bodies World Health Assembly Executive Board Member States Portal Home Publications i item WHO guideline on contact tracing Select language franais espaol portugus WHO guideline on contact tracing 13 January 2025 Guideline Download 884 kB Overview This practical guideline establishes definitions for contact contact person contact tracing and other associated concepts It allows for improvement of contact tracing strategies and provides recommendations attempting to answer some though not all questions that arose during the 2019 coronavirus pandemic and other outbreaks The use of this guideline begins once people have been diagnosed and the potential for transmission exists It is not however intended to assist with case investigation The guideline empowers health workers governments and public health officials with the tools to implement effective contact tracing strategies Related linksWHO releases first diseaseagnostic guideline on contact tracingVideo Infectious diseases WHO guideline on contact tracing WHO Team Field Epidemiology Strengthening FEP Guidelines Review Committee WHO Health Emergencies Programme WHE Editors World Health Organization Number of pages 92 Reference numbers ISBN 9789240102965 Copyright Regions Africa Americas Eastern Mediterranean Europe SouthEast Asia Western Pacific Policies Cybersecurity Ethics Information disclosure Permissions and licensing Preventing sexual exploitation Terms of use About us Careers Frequently asked questions Library Procurement Publications Contact us Newsletters Report misconduct Privacy policy 2025 WHO\n",
      "Summary:\n",
      "Publication Item Skip to main content Global Regions WHO Regional websites Africa Americas SouthEast Asia Europe Eastern Mediterranean Western Pacific When autocomplete results are available use up and down arrows to review and enter to select Select language Select language English Franais Espaol Portugus Donate Donate Home Health Topics All topicsABCDEFGHIJKLMNOPQRSTUVWXYZ Resources Fact sheets Facts in pictures Multimedia Podcasts Publications Questions and answers Tools and toolkits Popular Dengue Endometriosis Excessive heat Herpes Mental disorders Mpox Countries All countriesABCDEFGHIJKLMNOPQRSTUVWXYZ Regions Africa Americas Europe Eastern Mediterranean SouthEast Asia Western Pacific WHO in countries Data by country Country presence Country strengthening Country cooperation strategies Newsroom All news News releases Statements Campaigns Events Feature stories Press conferences Speeches Commentaries Photo library Headlines Emergencies Focus on Cholera Coronavirus disease COVID19 Greater Horn of Africa Israel and occupied Palestinian territory Mpox Sudan Ukraine Latest Disease Outbreak News Situation reports Weekly Epidemiological Record WHO in emergencies Surveillance Operations Research Funding Partners Health emergency appeals International Health Regulations Independent Oversight and Advisory Committee Data Data at WHO Data hub Global Health Estimates Mortality Health inequality Dashboards Triple Billion Progress Health Inequality Monitor Delivery for impact COVID19 dashboard Data collection Classifications SCORE Surveys Civil registration and vital statistics Routine health information systems Harmonized health facility assessment GIS centre for health Reports World Health Statistics UHC global monitoring report About WHO About WHO Partnerships Committees and advisory groups Collaborating centres Technical teams Organizational structure Who we are Our work Activities Initiatives General Programme of Work WHO Academy Funding Investment in WHO WHO Foundation Accountability External audit Financial statements Internal audit and investigations Programme Budget Results reports Governance Governing bodies World Health Assembly Executive Board Member States Portal Home Publications i item WHO recommendations for management of serious bacterial infections in infants aged 059 days Select language franais espaol portugus WHO recommendations for management of serious bacterial infections in infants aged 059 days 8 December 2024 Guideline Download 57 MB Overview The World Health Organization WHO has developed guidelines for the management of infants aged 059 days with serious bacterial infections sepsis meningitis and pneumonia in hospital and also outside hospital if referral is not possible The guidelines now include recommendations on diagnosis as well as first line empiric antibiotic treatment of the most critically ill infants aged 059 days with suspected sepsis meningitis and pneumonia The recommendations are intended for a wide audience involved in the management of serious bacterial infections in infants aged 059 days Web annex Web Annex Evidence base GRADE tables Available at Download link WHO Team Child Health and Development CHD Guidelines Review Committee Maternal Newborn Child Adolescent Health Ageing MCA Newborn Health NBH Editors World Health Organization Number of pages 90 Reference numbers ISBN 9789240102903 Copyright Regions Africa Americas Eastern Mediterranean Europe SouthEast Asia Western Pacific Policies Cybersecurity Ethics Information disclosure Permissions and licensing Preventing sexual exploitation Terms of use About us Careers Frequently asked questions Library Procurement Publications Contact us Newsletters Report misconduct Privacy policy 2025 WHO\n"
     ]
    }
   ],
   "source": [
    "from langchain.document_loaders import WebBaseLoader\n",
    "import re\n",
    "from bs4 import BeautifulSoup\n",
    "import nltk\n",
    "from nltk.corpus import stopwords\n",
    "from nltk.tokenize import word_tokenize, sent_tokenize\n",
    "\n",
    "nltk.download('punkt')\n",
    "nltk.download('stopwords')\n",
    "\n",
    "def clean_text(text):\n",
    "    text = BeautifulSoup(text, \"html.parser\").get_text()\n",
    "    text = re.sub(r'[^a-zA-Z0-9\\s]', '', text)\n",
    "    text = re.sub(r'\\s+', ' ', text).strip()\n",
    "    return text\n",
    "\n",
    "URL = [\"https://www.who.int/publications/i/item/9789240102965\",\n",
    "       \"https://www.who.int/publications/i/item/9789240102903\"]\n",
    "\n",
    "data = WebBaseLoader(URL).load()\n",
    "\n",
    "cleaned_contents = []\n",
    "for document in data:\n",
    "    cleaned_content = clean_text(document.page_content)\n",
    "    cleaned_contents.append(cleaned_content)\n",
    "\n",
    "stop_words = set(stopwords.words('english'))\n",
    "\n",
    "def nltk_summarize(text, num_sentences=3):\n",
    "    words = word_tokenize(text.lower())\n",
    "    words = [word for word in words if word.isalnum()]\n",
    "\n",
    "    word_frequencies = {}\n",
    "    for word in words:\n",
    "        if word not in stop_words:\n",
    "            if word not in word_frequencies:\n",
    "                word_frequencies[word] = 1\n",
    "            else:\n",
    "                word_frequencies[word] += 1\n",
    "\n",
    "    sentences = sent_tokenize(text)\n",
    "   # print(\"Sentences:\") #add this line\n",
    "    #print(sentences) #add this line\n",
    "    sentence_scores = {}\n",
    "    for sentence in sentences:\n",
    "        for word in word_tokenize(sentence.lower()):\n",
    "            if word in word_frequencies:\n",
    "                if sentence not in sentence_scores:\n",
    "                    sentence_scores[sentence] = word_frequencies[word]\n",
    "                else:\n",
    "                    sentence_scores[sentence] += word_frequencies[word]\n",
    "   # print(\"Sentence Scores:\") #add this line\n",
    "   # print(sentence_scores) #add this line\n",
    "\n",
    "    summary_sentences = sorted(sentence_scores, key=sentence_scores.get, reverse=True)[:num_sentences]\n",
    "    summary = ' '.join(summary_sentences)\n",
    "    return summary\n",
    "\n",
    "for cleaned_content in cleaned_contents:\n",
    "    if cleaned_content:\n",
    "        summary = nltk_summarize(cleaned_content)\n",
    "        print(\"Summary:\")\n",
    "        print(summary)\n",
    "    else:\n",
    "        print(\"Empty Content\")"
   ]
  },
  {
   "cell_type": "code",
   "execution_count": null,
   "id": "5d72b654-a4cc-48c9-92b1-e0052a04e3fe",
   "metadata": {},
   "outputs": [],
   "source": []
  },
  {
   "cell_type": "code",
   "execution_count": null,
   "id": "87ab87aa-c7b5-4e73-ad7a-674d3a2308d5",
   "metadata": {},
   "outputs": [],
   "source": []
  }
 ],
 "metadata": {
  "kernelspec": {
   "display_name": "Python 3 (ipykernel)",
   "language": "python",
   "name": "python3"
  },
  "language_info": {
   "codemirror_mode": {
    "name": "ipython",
    "version": 3
   },
   "file_extension": ".py",
   "mimetype": "text/x-python",
   "name": "python",
   "nbconvert_exporter": "python",
   "pygments_lexer": "ipython3",
   "version": "3.10.16"
  }
 },
 "nbformat": 4,
 "nbformat_minor": 5
}
